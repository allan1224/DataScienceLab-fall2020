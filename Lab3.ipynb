{
 "cells": [
  {
   "cell_type": "code",
   "execution_count": null,
   "metadata": {
    "id": "eBlPt0bIV7vO"
   },
   "outputs": [],
   "source": [
    "from google.colab import drive\n",
    "drive.mount('/content/drive')"
   ]
  },
  {
   "cell_type": "code",
   "execution_count": null,
   "metadata": {
    "colab": {
     "base_uri": "https://localhost:8080/",
     "height": 54
    },
    "id": "FfW2-LEEwFpQ",
    "outputId": "df3ce748-7f8b-40d2-95d6-eae9c5faada6"
   },
   "outputs": [
    {
     "name": "stderr",
     "output_type": "stream",
     "text": [
      "/usr/local/lib/python3.6/dist-packages/statsmodels/tools/_testing.py:19: FutureWarning: pandas.util.testing is deprecated. Use the functions in the public API at pandas.testing instead.\n",
      "  import pandas.util.testing as tm\n"
     ]
    }
   ],
   "source": [
    "import pandas as pd\n",
    "import numpy as np\n",
    "import seaborn as sns\n",
    "import matplotlib\n",
    "\n",
    "import random\n",
    "import re\n",
    "from collections import defaultdict\n",
    "import glob\n",
    "from pyitlib import discrete_random_variable as drv\n",
    "import _pickle as cPickle\n",
    "import zlib\n",
    "\n",
    "import matplotlib.pyplot as plt\n",
    "from scipy.stats import skew\n",
    "from scipy.stats.stats import pearsonr\n",
    "import xgboost as xgb\n",
    "from lightgbm import LGBMRegressor\n",
    "\n",
    "from sklearn.ensemble import RandomForestRegressor, StackingRegressor\n",
    "from sklearn.model_selection import KFold, cross_val_score, GridSearchCV, cross_validate\n",
    "from sklearn.metrics import make_scorer, mean_squared_error\n",
    "from sklearn.linear_model import Ridge, RidgeCV, ElasticNet, LassoCV, LassoLarsCV\n",
    "from sklearn.svm import SVR\n",
    "\n",
    "%config InlineBackend.figure_format = 'retina' #set 'png' here when working on notebook\n",
    "%matplotlib inline"
   ]
  },
  {
   "cell_type": "code",
   "execution_count": null,
   "metadata": {
    "id": "N2RK5u0SSEUV"
   },
   "outputs": [],
   "source": [
    "RANDOM_STATE = 50"
   ]
  },
  {
   "cell_type": "markdown",
   "metadata": {
    "id": "Ptmv0bR1m55F"
   },
   "source": [
    "# Problem 1"
   ]
  },
  {
   "cell_type": "markdown",
   "metadata": {
    "id": "XoBp3V9YneAW"
   },
   "source": [
    "**Read Shannon’s 1948 paper ’A Mathematical Theory of Communication’.  Focus on pages 1-19 (upto Part II), the remaining part is more relevant for communication.**"
   ]
  },
  {
   "cell_type": "markdown",
   "metadata": {
    "id": "2CI2-k5rnQoK"
   },
   "source": [
    "The central goal of this paper is to find a general theory of communication. The fundamental problem of communication lies in the reproduction of messages between a source and destination for a communication system. Sometimes the correct message to be reproduced must be selected from a group of possible messages. If each message in the group has an equally likely choice of being the correct original message, you can use a logarithmic function to estimate the amount of information being sent.\n",
    "\n",
    "A communication system has five parts: an information source that produces a message, a transmitter that transforms the message somehow to make it transferable, a channel that transports the message from a transmitter to the receiver, a receiver that performs the inverse transformation of the transmitter, and finally a destination that gets the message from the receiver. There are three types of information systems: discrete, continuous, and mixed. Noise is also introduced to the channel. A key aspect to a communications system is how that noise can be filtered out to properly extract the original message. \n",
    "\n",
    "One central question is how can we measure the capacity of a channel to transmit information. There is a formula for it, C = Lim(T->infinity) [ logN(T) / T ], and you can also always condense discrete sequences by only tracking changes in state. A communication system that uses discrete symbols with probabilities of being chosen is known as a stochastic process. We can approximate the english language by increasing the order of approximation in the stochastic process. A stochastic process is also known as a discrete Markhoff process. We can represent these Markhoff processes as state diagrams with probabilities connected to state changes. There’s a group of markhoff processes called ergodic processes, which are basically graphs where every node is connected to every other node, with a path back (not periodic). If graphs are disjoint, they can be split into multiple ergodic processes. \n",
    "\n",
    "H(p1,...,pn) defines the ‘uncertainty’ of an event, and this uncertainty should increase linearly with ‘n’ if pi = 1/n for all i < n. We know that H = -Ksum(pi(log(pi)) where K is a positive constant. We can also find the entropy of each finite state from a discrete finite state source. The mathematical operations used to code and decode information comprise a discrete transducer. Additionally the output of the a finite state transducer is a finite state statistical source with an entropy H less than or equal to the entropy of the input. If a source has entropy H and a channel capacity C, we can encode the source output at an average rate greater than C/H.\n"
   ]
  },
  {
   "cell_type": "markdown",
   "metadata": {
    "id": "reB0etzGnqK5"
   },
   "source": [
    "# Problem 2"
   ]
  },
  {
   "cell_type": "markdown",
   "metadata": {
    "id": "NLFYKTbZnvh3"
   },
   "source": [
    "**ICML is a top research conference in Machine learning.  Scrape all the pdfs of all ICML 2017 papersfrom http://proceedings.mlr.press/v70/**"
   ]
  },
  {
   "cell_type": "code",
   "execution_count": null,
   "metadata": {
    "id": "9pY21KcNoT2H"
   },
   "outputs": [],
   "source": [
    "# Gets a dataframe of all alphanumeric words, repeats possible\n",
    "word_dict = {'word' : [], 'source' : []}\n",
    "\n",
    "txt_doc_names = glob.glob(\"*.pdf.txt\")\n",
    "txt_doc_names.sort()\n",
    "\n",
    "for txt_doc_name in txt_doc_names:\n",
    "    with open(txt_doc_name, 'r', encoding=\"utf-8\") as file:\n",
    "        words = file.read().replace('\\n', ' ').replace('_', '')\n",
    "    pattern = re.compile('[^\\w\\s]')\n",
    "    words = pattern.sub(' ', words)\n",
    "    pattern = re.compile('CID:\\S+')\n",
    "    words = pattern.sub('', words)\n",
    "    word_list = words.split()\n",
    "\n",
    "    for word in word_list:\n",
    "        word = word.lower()\n",
    "        if (word != ' ') and (len(word) > 0) and (word[0] != ' ') and (word != len(word) * word[0]):\n",
    "            pattern = re.compile('[\\s]')\n",
    "            word = pattern.sub('', word)\n",
    "            word_dict['word'].append(word)\n",
    "            word_dict['source'].append(txt_doc_name)\n",
    "        \n",
    "word_df = pd.DataFrame(word_dict, columns = ['word', 'source'])"
   ]
  },
  {
   "cell_type": "code",
   "execution_count": null,
   "metadata": {
    "id": "rP1yHrocoYJy"
   },
   "outputs": [],
   "source": [
    "# Creates a dataframe where each word and punctuation symbol is a row, with repeated words possible\n",
    "word_punc_dict = {'word' : [], 'source' : []}\n",
    "\n",
    "txt_doc_names = glob.glob(\"*.pdf.txt\")\n",
    "txt_doc_names.sort()\n",
    "\n",
    "for txt_doc_name in txt_doc_names:   \n",
    "    with open(txt_doc_name, 'r', encoding=\"utf-8\") as file:\n",
    "        words = file.read().replace('-\\n', '').replace('\\n', ' ')\n",
    "        \n",
    "    pattern = re.compile('\\(CID\\S+')\n",
    "    words = pattern.sub(' ', words)\n",
    "    pattern = re.compile('\\(cid\\S+')\n",
    "    words = pattern.sub(' ', words)\n",
    "    pattern = re.compile('\\<\\S+')\n",
    "    words = pattern.sub(' ', words)\n",
    "  \n",
    "    word_list = re.split('(\\W+)', words)\n",
    "\n",
    "    for word in word_list:\n",
    "        word = word.lower()\n",
    "        if (len(word) > 0) and (word[0] != ' ') and (word != len(word) * word[0]):\n",
    "            pattern = re.compile('[\\s]')\n",
    "            word = pattern.sub('', word)\n",
    "            if (len(word) > 1) and not word.isalnum():\n",
    "                chars = list(word)\n",
    "                for char in chars:\n",
    "                    word_punc_dict['word'].append(char)\n",
    "                    word_punc_dict['source'].append(txt_doc_name)\n",
    "            else:\n",
    "                word_punc_dict['word'].append(word)\n",
    "                word_punc_dict['source'].append(txt_doc_name)\n",
    "        \n",
    "word_punc_df = pd.DataFrame(word_punc_dict, columns = ['word', 'source'])"
   ]
  },
  {
   "cell_type": "markdown",
   "metadata": {
    "id": "Ej8ytcFYn2LL"
   },
   "source": [
    "## 1. What are the top 10 common words in the ICML papers?"
   ]
  },
  {
   "cell_type": "code",
   "execution_count": null,
   "metadata": {
    "id": "ybsrjMqgollo"
   },
   "outputs": [],
   "source": [
    "word_df['word'].value_counts().head(10)"
   ]
  },
  {
   "cell_type": "markdown",
   "metadata": {
    "id": "FO1_E2U3n8kP"
   },
   "source": [
    "## 2. Let Z be a randomly selected word in a randomly selected ICML paper.  Estimate the entropy of Z."
   ]
  },
  {
   "cell_type": "markdown",
   "metadata": {
    "id": "yetvEOAsooxT"
   },
   "source": [
    "To calculate entropy meant calculating all joint and conditional probabilities for words and sources in all texts. This is possible, but not on my machine, since there are so many words in the original dataframe. There are two ways I found to do this: first by getting the value from base probabilities, second by using an external library. The last command is runnable, and has the fastest runtime, but I do not have enough memory to run it."
   ]
  },
  {
   "cell_type": "code",
   "execution_count": null,
   "metadata": {
    "id": "jjL248Rvo_e7"
   },
   "outputs": [],
   "source": [
    "# Method 1 calculating probability by probability (logic is there, I just couldn't run it)\n",
    "\n",
    "def prob_dict(a):\n",
    "    # Make dictionary of probabilities\n",
    "    a_list = a.tolist()\n",
    "    \n",
    "    a_counts = {}\n",
    "    total = len(a_list)\n",
    "    \n",
    "    for key in a_list:\n",
    "        if key in a_counts:\n",
    "            a_counts[key] = a_counts[key] + 1\n",
    "        else:\n",
    "            a_counts[key] = 1\n",
    "    \n",
    "    a_probs = a_counts\n",
    "    \n",
    "    for key in a_probs.keys():\n",
    "        a_probs[key] = a_probs[key]/total\n",
    "        \n",
    "    return(a_probs)\n",
    "\n",
    "def count_arr(df):\n",
    "    df_arr = np.array(df)\n",
    "    \n",
    "    a = df['word']\n",
    "    b = df['source']\n",
    "    b_unq = b.unique()\n",
    "    a_unq = a.unique()\n",
    "    \n",
    "    b_map = {}\n",
    "    ind = 0\n",
    "    for item in b_unq:\n",
    "        b_map[item] = ind\n",
    "        ind += 1\n",
    "        \n",
    "    a_map = {}\n",
    "    ind = 0\n",
    "    for item in a_unq:\n",
    "        a_map[item] = ind\n",
    "        ind += 1\n",
    "        \n",
    "    count_arr = np.zeros((len(a_map.keys()), len(b_map.keys()))) \n",
    "    count_len = len(df_arr)\n",
    "    for i in range(count_len):\n",
    "        a_val = df_arr[i][0]\n",
    "        b_val = df_arr[i][1]\n",
    "        a_ind = a_map[a_val]\n",
    "        b_ind = b_map[b_val]\n",
    "        count_arr[a_ind][b_ind] += 1 \n",
    "        \n",
    "    return(count_arr)\n",
    "\n",
    "def joint_prob_arr(df):\n",
    "    counts = count_arr(df)\n",
    "    joint_probs = counts\n",
    "            \n",
    "    for i in range(len(counts)):\n",
    "        for j in range(len(counts[0])):\n",
    "            joint_probs[i][j] = (1/len(counts[0]))*(counts[i][j]/np.sum(counts[:,j]))\n",
    "            \n",
    "    return(joint_probs)\n",
    "            \n",
    "def cond_prob_arr(df, joint_probs):\n",
    "    a = df['word']\n",
    "    a_probs = prob_dict(a)\n",
    "    a_unq = a.unique()\n",
    "    a_map = {}\n",
    "    ind = 0\n",
    "    for item in a_unq:\n",
    "        a_map[ind] = item\n",
    "        ind += 1\n",
    "        \n",
    "    cond_probs = joint_probs\n",
    "    \n",
    "    for i in range(len(joint_probs)):\n",
    "        for j in range(len(joint_probs[0])):\n",
    "            cond_probs[i][j] = joint_probs[i][j]/a_probs[a_map[i]]\n",
    "            \n",
    "    return(cond_probs)\n",
    "    \n",
    "def cond_entropy(df):\n",
    "    joint_probs = joint_prob_arr(df)\n",
    "    cond_probs = cond_prob_arr(df, joint_probs)\n",
    "    \n",
    "    sum = 0\n",
    "    for i in range(len(joint_probs)):\n",
    "        for j in range(len(joint_probs)[0]):\n",
    "            sum += joint_probs[i][j]*np.log2(cond_probs[i][j])\n",
    "    \n",
    "    return(sum)\n",
    "    # Make 2-D array of conditional probabilities\n",
    "    \n",
    "    # Calculate conditional entropy\n",
    "    "
   ]
  },
  {
   "cell_type": "code",
   "execution_count": null,
   "metadata": {
    "id": "GtXJvsGLpYVg"
   },
   "outputs": [],
   "source": [
    "# Alternative of method 1, more condensed but less efficient\n",
    "def get_joint_prob(word, source, df):\n",
    "    word_freq = df[df['source'] == source][df['word'] == word].shape[0]\n",
    "    words_in_source = df[df['source'] == source].shape[0]\n",
    "    num_sources = df['source'].unique().shape[0]\n",
    "    prob = (1 / num_sources) * (word_freq / words_in_source)\n",
    "    return(prob)\n",
    "\n",
    "def get_prob(word, df):\n",
    "    word_freq = df[df['word'] == word].shape[0]\n",
    "    total_words = df.shape[0]\n",
    "    prob = word_freq / total_words\n",
    "    return(prob)\n",
    "\n",
    "def get_cond_prob(word, source, df):\n",
    "    prob = get_prob(word, df)\n",
    "    joint = get_joint_prob(word, source, df)\n",
    "    cond = joint / prob\n",
    "    return(cond)\n",
    "\n",
    "def get_cond_entropy(df):\n",
    "    unique_sources = df['source'].unique().tolist()\n",
    "    sum = 0\n",
    "    for source in unique_sources:\n",
    "        unique_words = df[df['source'] == source]['word'].unique().tolist()\n",
    "        for word in unique_words:\n",
    "            sum += get_joint_prob(word, source, df) * np.log2(get_cond_prob(word, source, df))\n",
    "    return(-sum)    "
   ]
  },
  {
   "cell_type": "code",
   "execution_count": null,
   "metadata": {
    "id": "tw7ltmpIpeHg"
   },
   "outputs": [],
   "source": [
    "# Method 2, external library\n",
    "drv.entropy_conditional(word_df['word'].tolist(), word_df['source'].tolist())"
   ]
  },
  {
   "cell_type": "markdown",
   "metadata": {
    "id": "cq5wlOPaoFSy"
   },
   "source": [
    "## 3. Synthesize a random paragraph using the marginal distribution over words."
   ]
  },
  {
   "cell_type": "code",
   "execution_count": null,
   "metadata": {
    "id": "LD17O6CupvS9"
   },
   "outputs": [],
   "source": [
    "NUM_PARA_WORDS = 100\n",
    "para = ''\n",
    "num_words = word_df.shape[0]\n",
    "\n",
    "for i in range(NUM_PARA_WORDS):\n",
    "    word_ind = np.random.randint(num_words)\n",
    "    word = word_df.iat[word_ind, 0] + ' '\n",
    "    para = para + word\n",
    "    \n",
    "print(para)"
   ]
  },
  {
   "cell_type": "markdown",
   "metadata": {
    "id": "-UsLfoMdoLg_"
   },
   "source": [
    "## 4. (Extra credit) Synthesize a random paragraph using an n-gram model on words.  Synthesize a random paragraph using any model you want.  Top five synthesized text paragraphs win bonus (+30 points)"
   ]
  },
  {
   "cell_type": "code",
   "execution_count": null,
   "metadata": {
    "id": "y4kzR1WzqM7D"
   },
   "outputs": [],
   "source": [
    "# Adding a column to keep track of a default value\n",
    "TOTAL_WORDS += 1\n",
    "all_unique_words = word_punc_df['word'].unique()"
   ]
  },
  {
   "cell_type": "code",
   "execution_count": null,
   "metadata": {
    "id": "qpPlHCjeqQhw"
   },
   "outputs": [],
   "source": [
    "n = 15\n",
    "\n",
    "def compress(t):\n",
    "    return zlib.compress(cPickle.dumps(t))\n",
    "\n",
    "def decompress(t):\n",
    "    return cPickle.loads(zlib.decompress(t))\n",
    "\n",
    "sparseMatrixLike = defaultdict(np.float16)\n",
    "sparseMatrixLike[compress(tuple([None] * n))] = 0.0\n",
    "\n",
    "words_in_order = word_punc_df['word'].to_list()\n",
    "\n",
    "prevData = []\n",
    "prevData.append(None)\n",
    "for i in range(n):\n",
    "    prevData.append(words_in_order[i])\n",
    "\n",
    "\n",
    "for word in words_in_order[n-1:]:\n",
    "    prevData.append(word)\n",
    "    prevData.pop(0)\n",
    "    args = tuple(list([prevData[x] for x in range(0,n)]))\n",
    "    for i in range(n):\n",
    "        sparseMatrixLike[compress(args)] +=1\n",
    "        l = list(args)[1:]\n",
    "        l.append(None)\n",
    "        args = tuple(l)"
   ]
  },
  {
   "cell_type": "code",
   "execution_count": null,
   "metadata": {
    "id": "qYexPpxTqTXz"
   },
   "outputs": [],
   "source": [
    "divisor = len(words_in_order) - (n-1)\n",
    "for k, v in sparseMatrixLike.items():\n",
    "    sparseMatrixLike[k] = sparseMatrixLike[k] / (divisor)"
   ]
  },
  {
   "cell_type": "code",
   "execution_count": null,
   "metadata": {
    "id": "9nDs8ZMyqU84"
   },
   "outputs": [],
   "source": [
    "sparseLike = sparseMatrixLike\n",
    "def stupid_fall_back_fill(words, word_list):\n",
    "    global sparseLike\n",
    "    global n\n",
    "    for word in word_list:\n",
    "        sparseLike[compress(tuple(words + [word]))] = stupid_fall_back(tuple(words + [word]), n-1)\n",
    "\n",
    "def stupid_fall_back(words, index):\n",
    "    global sparseLike\n",
    "    if compress(words) in sparseLike:\n",
    "        return sparseLike[compress(words)]\n",
    "    l = list(words)[1:]\n",
    "    l.append(None)\n",
    "    words = tuple(l)\n",
    "    return 0.2 * stupid_fall_back(words, index - 1)\n",
    "\n",
    "message = ['to', 'illustrate', 'the', 'properties', 'of', 'our', 'model', ',', 'we', 'compared', 'its', 'accuracy', 'to', 'the']\n",
    "\n",
    "import random\n",
    "for i in range(200):\n",
    "    print(message[0], end=' ')\n",
    "    word_list = [x for x in all_unique_words if (compress((message[n-3],message[n-2],x,None,None,None,None,None,None,None,None,None,None,None,None)) in sparseLike)]\n",
    "    \n",
    "    if len(word_list) < 2:\n",
    "        word_list = [x for x in all_unique_words if (compress((message[n-2],x,None,None,None,None,None,None,None,None,None,None,None,None,None)) in sparseLike)]\n",
    "        if len(word_list) < 2:\n",
    "            word_list = [x for x in all_unique_words if (compress((x,None,None,None,None,None,None,None,None,None,None,None,None,None,None)) in sparseLike)]\n",
    "        \n",
    "    stupid_fall_back_fill(message, word_list)\n",
    "    \n",
    "    maxVal = 0.0\n",
    "    for sel in word_list:\n",
    "        maxVal += sparseLike[compress(tuple(message + [sel]))]\n",
    "    x = random.uniform(0, 1) * maxVal\n",
    "    \n",
    "    looped = True\n",
    "    for sel in word_list:\n",
    "        x -= sparseLike[compress(tuple(message + [sel]))]\n",
    "        if x < 0:\n",
    "            message.append(sel)\n",
    "            message.pop(0)\n",
    "            looped = False\n",
    "            break\n",
    "    if looped == True:\n",
    "        print(message)\n",
    "        print(maxVal)\n",
    "        print(word_list)\n",
    "        break\n",
    "            \n",
    "while len(message) > 0:\n",
    "    print(message[0], end=' ')\n",
    "    message.pop(0)\n",
    "        "
   ]
  },
  {
   "cell_type": "markdown",
   "metadata": {
    "id": "O_oco62_qZxg"
   },
   "source": [
    "# Problem 3"
   ]
  },
  {
   "cell_type": "markdown",
   "metadata": {
    "id": "aurOHmYpwT6V"
   },
   "source": [
    "## Data Pre-Processing"
   ]
  },
  {
   "cell_type": "code",
   "execution_count": null,
   "metadata": {
    "id": "FKFxDZuAwRIK"
   },
   "outputs": [],
   "source": [
    "train = pd.read_csv(\"train.csv\")\n",
    "test = pd.read_csv(\"test.csv\")"
   ]
  },
  {
   "cell_type": "code",
   "execution_count": null,
   "metadata": {
    "colab": {
     "base_uri": "https://localhost:8080/",
     "height": 222
    },
    "id": "i0ANf-7RwZH3",
    "outputId": "a0dcaacd-ae28-454f-a742-bf0fdb2c32a2"
   },
   "outputs": [
    {
     "data": {
      "text/html": [
       "<div>\n",
       "<style scoped>\n",
       "    .dataframe tbody tr th:only-of-type {\n",
       "        vertical-align: middle;\n",
       "    }\n",
       "\n",
       "    .dataframe tbody tr th {\n",
       "        vertical-align: top;\n",
       "    }\n",
       "\n",
       "    .dataframe thead th {\n",
       "        text-align: right;\n",
       "    }\n",
       "</style>\n",
       "<table border=\"1\" class=\"dataframe\">\n",
       "  <thead>\n",
       "    <tr style=\"text-align: right;\">\n",
       "      <th></th>\n",
       "      <th>Id</th>\n",
       "      <th>MSSubClass</th>\n",
       "      <th>MSZoning</th>\n",
       "      <th>LotFrontage</th>\n",
       "      <th>LotArea</th>\n",
       "      <th>Street</th>\n",
       "      <th>Alley</th>\n",
       "      <th>LotShape</th>\n",
       "      <th>LandContour</th>\n",
       "      <th>Utilities</th>\n",
       "      <th>LotConfig</th>\n",
       "      <th>LandSlope</th>\n",
       "      <th>Neighborhood</th>\n",
       "      <th>Condition1</th>\n",
       "      <th>Condition2</th>\n",
       "      <th>BldgType</th>\n",
       "      <th>HouseStyle</th>\n",
       "      <th>OverallQual</th>\n",
       "      <th>OverallCond</th>\n",
       "      <th>YearBuilt</th>\n",
       "      <th>YearRemodAdd</th>\n",
       "      <th>RoofStyle</th>\n",
       "      <th>RoofMatl</th>\n",
       "      <th>Exterior1st</th>\n",
       "      <th>Exterior2nd</th>\n",
       "      <th>MasVnrType</th>\n",
       "      <th>MasVnrArea</th>\n",
       "      <th>ExterQual</th>\n",
       "      <th>ExterCond</th>\n",
       "      <th>Foundation</th>\n",
       "      <th>BsmtQual</th>\n",
       "      <th>BsmtCond</th>\n",
       "      <th>BsmtExposure</th>\n",
       "      <th>BsmtFinType1</th>\n",
       "      <th>BsmtFinSF1</th>\n",
       "      <th>BsmtFinType2</th>\n",
       "      <th>BsmtFinSF2</th>\n",
       "      <th>BsmtUnfSF</th>\n",
       "      <th>TotalBsmtSF</th>\n",
       "      <th>Heating</th>\n",
       "      <th>HeatingQC</th>\n",
       "      <th>CentralAir</th>\n",
       "      <th>Electrical</th>\n",
       "      <th>1stFlrSF</th>\n",
       "      <th>2ndFlrSF</th>\n",
       "      <th>LowQualFinSF</th>\n",
       "      <th>GrLivArea</th>\n",
       "      <th>BsmtFullBath</th>\n",
       "      <th>BsmtHalfBath</th>\n",
       "      <th>FullBath</th>\n",
       "      <th>HalfBath</th>\n",
       "      <th>BedroomAbvGr</th>\n",
       "      <th>KitchenAbvGr</th>\n",
       "      <th>KitchenQual</th>\n",
       "      <th>TotRmsAbvGrd</th>\n",
       "      <th>Functional</th>\n",
       "      <th>Fireplaces</th>\n",
       "      <th>FireplaceQu</th>\n",
       "      <th>GarageType</th>\n",
       "      <th>GarageYrBlt</th>\n",
       "      <th>GarageFinish</th>\n",
       "      <th>GarageCars</th>\n",
       "      <th>GarageArea</th>\n",
       "      <th>GarageQual</th>\n",
       "      <th>GarageCond</th>\n",
       "      <th>PavedDrive</th>\n",
       "      <th>WoodDeckSF</th>\n",
       "      <th>OpenPorchSF</th>\n",
       "      <th>EnclosedPorch</th>\n",
       "      <th>3SsnPorch</th>\n",
       "      <th>ScreenPorch</th>\n",
       "      <th>PoolArea</th>\n",
       "      <th>PoolQC</th>\n",
       "      <th>Fence</th>\n",
       "      <th>MiscFeature</th>\n",
       "      <th>MiscVal</th>\n",
       "      <th>MoSold</th>\n",
       "      <th>YrSold</th>\n",
       "      <th>SaleType</th>\n",
       "      <th>SaleCondition</th>\n",
       "    </tr>\n",
       "  </thead>\n",
       "  <tbody>\n",
       "    <tr>\n",
       "      <th>0</th>\n",
       "      <td>1461</td>\n",
       "      <td>20</td>\n",
       "      <td>RH</td>\n",
       "      <td>80.0</td>\n",
       "      <td>11622</td>\n",
       "      <td>Pave</td>\n",
       "      <td>NaN</td>\n",
       "      <td>Reg</td>\n",
       "      <td>Lvl</td>\n",
       "      <td>AllPub</td>\n",
       "      <td>Inside</td>\n",
       "      <td>Gtl</td>\n",
       "      <td>NAmes</td>\n",
       "      <td>Feedr</td>\n",
       "      <td>Norm</td>\n",
       "      <td>1Fam</td>\n",
       "      <td>1Story</td>\n",
       "      <td>5</td>\n",
       "      <td>6</td>\n",
       "      <td>1961</td>\n",
       "      <td>1961</td>\n",
       "      <td>Gable</td>\n",
       "      <td>CompShg</td>\n",
       "      <td>VinylSd</td>\n",
       "      <td>VinylSd</td>\n",
       "      <td>None</td>\n",
       "      <td>0.0</td>\n",
       "      <td>TA</td>\n",
       "      <td>TA</td>\n",
       "      <td>CBlock</td>\n",
       "      <td>TA</td>\n",
       "      <td>TA</td>\n",
       "      <td>No</td>\n",
       "      <td>Rec</td>\n",
       "      <td>468.0</td>\n",
       "      <td>LwQ</td>\n",
       "      <td>144.0</td>\n",
       "      <td>270.0</td>\n",
       "      <td>882.0</td>\n",
       "      <td>GasA</td>\n",
       "      <td>TA</td>\n",
       "      <td>Y</td>\n",
       "      <td>SBrkr</td>\n",
       "      <td>896</td>\n",
       "      <td>0</td>\n",
       "      <td>0</td>\n",
       "      <td>896</td>\n",
       "      <td>0.0</td>\n",
       "      <td>0.0</td>\n",
       "      <td>1</td>\n",
       "      <td>0</td>\n",
       "      <td>2</td>\n",
       "      <td>1</td>\n",
       "      <td>TA</td>\n",
       "      <td>5</td>\n",
       "      <td>Typ</td>\n",
       "      <td>0</td>\n",
       "      <td>NaN</td>\n",
       "      <td>Attchd</td>\n",
       "      <td>1961.0</td>\n",
       "      <td>Unf</td>\n",
       "      <td>1.0</td>\n",
       "      <td>730.0</td>\n",
       "      <td>TA</td>\n",
       "      <td>TA</td>\n",
       "      <td>Y</td>\n",
       "      <td>140</td>\n",
       "      <td>0</td>\n",
       "      <td>0</td>\n",
       "      <td>0</td>\n",
       "      <td>120</td>\n",
       "      <td>0</td>\n",
       "      <td>NaN</td>\n",
       "      <td>MnPrv</td>\n",
       "      <td>NaN</td>\n",
       "      <td>0</td>\n",
       "      <td>6</td>\n",
       "      <td>2010</td>\n",
       "      <td>WD</td>\n",
       "      <td>Normal</td>\n",
       "    </tr>\n",
       "    <tr>\n",
       "      <th>1</th>\n",
       "      <td>1462</td>\n",
       "      <td>20</td>\n",
       "      <td>RL</td>\n",
       "      <td>81.0</td>\n",
       "      <td>14267</td>\n",
       "      <td>Pave</td>\n",
       "      <td>NaN</td>\n",
       "      <td>IR1</td>\n",
       "      <td>Lvl</td>\n",
       "      <td>AllPub</td>\n",
       "      <td>Corner</td>\n",
       "      <td>Gtl</td>\n",
       "      <td>NAmes</td>\n",
       "      <td>Norm</td>\n",
       "      <td>Norm</td>\n",
       "      <td>1Fam</td>\n",
       "      <td>1Story</td>\n",
       "      <td>6</td>\n",
       "      <td>6</td>\n",
       "      <td>1958</td>\n",
       "      <td>1958</td>\n",
       "      <td>Hip</td>\n",
       "      <td>CompShg</td>\n",
       "      <td>Wd Sdng</td>\n",
       "      <td>Wd Sdng</td>\n",
       "      <td>BrkFace</td>\n",
       "      <td>108.0</td>\n",
       "      <td>TA</td>\n",
       "      <td>TA</td>\n",
       "      <td>CBlock</td>\n",
       "      <td>TA</td>\n",
       "      <td>TA</td>\n",
       "      <td>No</td>\n",
       "      <td>ALQ</td>\n",
       "      <td>923.0</td>\n",
       "      <td>Unf</td>\n",
       "      <td>0.0</td>\n",
       "      <td>406.0</td>\n",
       "      <td>1329.0</td>\n",
       "      <td>GasA</td>\n",
       "      <td>TA</td>\n",
       "      <td>Y</td>\n",
       "      <td>SBrkr</td>\n",
       "      <td>1329</td>\n",
       "      <td>0</td>\n",
       "      <td>0</td>\n",
       "      <td>1329</td>\n",
       "      <td>0.0</td>\n",
       "      <td>0.0</td>\n",
       "      <td>1</td>\n",
       "      <td>1</td>\n",
       "      <td>3</td>\n",
       "      <td>1</td>\n",
       "      <td>Gd</td>\n",
       "      <td>6</td>\n",
       "      <td>Typ</td>\n",
       "      <td>0</td>\n",
       "      <td>NaN</td>\n",
       "      <td>Attchd</td>\n",
       "      <td>1958.0</td>\n",
       "      <td>Unf</td>\n",
       "      <td>1.0</td>\n",
       "      <td>312.0</td>\n",
       "      <td>TA</td>\n",
       "      <td>TA</td>\n",
       "      <td>Y</td>\n",
       "      <td>393</td>\n",
       "      <td>36</td>\n",
       "      <td>0</td>\n",
       "      <td>0</td>\n",
       "      <td>0</td>\n",
       "      <td>0</td>\n",
       "      <td>NaN</td>\n",
       "      <td>NaN</td>\n",
       "      <td>Gar2</td>\n",
       "      <td>12500</td>\n",
       "      <td>6</td>\n",
       "      <td>2010</td>\n",
       "      <td>WD</td>\n",
       "      <td>Normal</td>\n",
       "    </tr>\n",
       "    <tr>\n",
       "      <th>2</th>\n",
       "      <td>1463</td>\n",
       "      <td>60</td>\n",
       "      <td>RL</td>\n",
       "      <td>74.0</td>\n",
       "      <td>13830</td>\n",
       "      <td>Pave</td>\n",
       "      <td>NaN</td>\n",
       "      <td>IR1</td>\n",
       "      <td>Lvl</td>\n",
       "      <td>AllPub</td>\n",
       "      <td>Inside</td>\n",
       "      <td>Gtl</td>\n",
       "      <td>Gilbert</td>\n",
       "      <td>Norm</td>\n",
       "      <td>Norm</td>\n",
       "      <td>1Fam</td>\n",
       "      <td>2Story</td>\n",
       "      <td>5</td>\n",
       "      <td>5</td>\n",
       "      <td>1997</td>\n",
       "      <td>1998</td>\n",
       "      <td>Gable</td>\n",
       "      <td>CompShg</td>\n",
       "      <td>VinylSd</td>\n",
       "      <td>VinylSd</td>\n",
       "      <td>None</td>\n",
       "      <td>0.0</td>\n",
       "      <td>TA</td>\n",
       "      <td>TA</td>\n",
       "      <td>PConc</td>\n",
       "      <td>Gd</td>\n",
       "      <td>TA</td>\n",
       "      <td>No</td>\n",
       "      <td>GLQ</td>\n",
       "      <td>791.0</td>\n",
       "      <td>Unf</td>\n",
       "      <td>0.0</td>\n",
       "      <td>137.0</td>\n",
       "      <td>928.0</td>\n",
       "      <td>GasA</td>\n",
       "      <td>Gd</td>\n",
       "      <td>Y</td>\n",
       "      <td>SBrkr</td>\n",
       "      <td>928</td>\n",
       "      <td>701</td>\n",
       "      <td>0</td>\n",
       "      <td>1629</td>\n",
       "      <td>0.0</td>\n",
       "      <td>0.0</td>\n",
       "      <td>2</td>\n",
       "      <td>1</td>\n",
       "      <td>3</td>\n",
       "      <td>1</td>\n",
       "      <td>TA</td>\n",
       "      <td>6</td>\n",
       "      <td>Typ</td>\n",
       "      <td>1</td>\n",
       "      <td>TA</td>\n",
       "      <td>Attchd</td>\n",
       "      <td>1997.0</td>\n",
       "      <td>Fin</td>\n",
       "      <td>2.0</td>\n",
       "      <td>482.0</td>\n",
       "      <td>TA</td>\n",
       "      <td>TA</td>\n",
       "      <td>Y</td>\n",
       "      <td>212</td>\n",
       "      <td>34</td>\n",
       "      <td>0</td>\n",
       "      <td>0</td>\n",
       "      <td>0</td>\n",
       "      <td>0</td>\n",
       "      <td>NaN</td>\n",
       "      <td>MnPrv</td>\n",
       "      <td>NaN</td>\n",
       "      <td>0</td>\n",
       "      <td>3</td>\n",
       "      <td>2010</td>\n",
       "      <td>WD</td>\n",
       "      <td>Normal</td>\n",
       "    </tr>\n",
       "    <tr>\n",
       "      <th>3</th>\n",
       "      <td>1464</td>\n",
       "      <td>60</td>\n",
       "      <td>RL</td>\n",
       "      <td>78.0</td>\n",
       "      <td>9978</td>\n",
       "      <td>Pave</td>\n",
       "      <td>NaN</td>\n",
       "      <td>IR1</td>\n",
       "      <td>Lvl</td>\n",
       "      <td>AllPub</td>\n",
       "      <td>Inside</td>\n",
       "      <td>Gtl</td>\n",
       "      <td>Gilbert</td>\n",
       "      <td>Norm</td>\n",
       "      <td>Norm</td>\n",
       "      <td>1Fam</td>\n",
       "      <td>2Story</td>\n",
       "      <td>6</td>\n",
       "      <td>6</td>\n",
       "      <td>1998</td>\n",
       "      <td>1998</td>\n",
       "      <td>Gable</td>\n",
       "      <td>CompShg</td>\n",
       "      <td>VinylSd</td>\n",
       "      <td>VinylSd</td>\n",
       "      <td>BrkFace</td>\n",
       "      <td>20.0</td>\n",
       "      <td>TA</td>\n",
       "      <td>TA</td>\n",
       "      <td>PConc</td>\n",
       "      <td>TA</td>\n",
       "      <td>TA</td>\n",
       "      <td>No</td>\n",
       "      <td>GLQ</td>\n",
       "      <td>602.0</td>\n",
       "      <td>Unf</td>\n",
       "      <td>0.0</td>\n",
       "      <td>324.0</td>\n",
       "      <td>926.0</td>\n",
       "      <td>GasA</td>\n",
       "      <td>Ex</td>\n",
       "      <td>Y</td>\n",
       "      <td>SBrkr</td>\n",
       "      <td>926</td>\n",
       "      <td>678</td>\n",
       "      <td>0</td>\n",
       "      <td>1604</td>\n",
       "      <td>0.0</td>\n",
       "      <td>0.0</td>\n",
       "      <td>2</td>\n",
       "      <td>1</td>\n",
       "      <td>3</td>\n",
       "      <td>1</td>\n",
       "      <td>Gd</td>\n",
       "      <td>7</td>\n",
       "      <td>Typ</td>\n",
       "      <td>1</td>\n",
       "      <td>Gd</td>\n",
       "      <td>Attchd</td>\n",
       "      <td>1998.0</td>\n",
       "      <td>Fin</td>\n",
       "      <td>2.0</td>\n",
       "      <td>470.0</td>\n",
       "      <td>TA</td>\n",
       "      <td>TA</td>\n",
       "      <td>Y</td>\n",
       "      <td>360</td>\n",
       "      <td>36</td>\n",
       "      <td>0</td>\n",
       "      <td>0</td>\n",
       "      <td>0</td>\n",
       "      <td>0</td>\n",
       "      <td>NaN</td>\n",
       "      <td>NaN</td>\n",
       "      <td>NaN</td>\n",
       "      <td>0</td>\n",
       "      <td>6</td>\n",
       "      <td>2010</td>\n",
       "      <td>WD</td>\n",
       "      <td>Normal</td>\n",
       "    </tr>\n",
       "    <tr>\n",
       "      <th>4</th>\n",
       "      <td>1465</td>\n",
       "      <td>120</td>\n",
       "      <td>RL</td>\n",
       "      <td>43.0</td>\n",
       "      <td>5005</td>\n",
       "      <td>Pave</td>\n",
       "      <td>NaN</td>\n",
       "      <td>IR1</td>\n",
       "      <td>HLS</td>\n",
       "      <td>AllPub</td>\n",
       "      <td>Inside</td>\n",
       "      <td>Gtl</td>\n",
       "      <td>StoneBr</td>\n",
       "      <td>Norm</td>\n",
       "      <td>Norm</td>\n",
       "      <td>TwnhsE</td>\n",
       "      <td>1Story</td>\n",
       "      <td>8</td>\n",
       "      <td>5</td>\n",
       "      <td>1992</td>\n",
       "      <td>1992</td>\n",
       "      <td>Gable</td>\n",
       "      <td>CompShg</td>\n",
       "      <td>HdBoard</td>\n",
       "      <td>HdBoard</td>\n",
       "      <td>None</td>\n",
       "      <td>0.0</td>\n",
       "      <td>Gd</td>\n",
       "      <td>TA</td>\n",
       "      <td>PConc</td>\n",
       "      <td>Gd</td>\n",
       "      <td>TA</td>\n",
       "      <td>No</td>\n",
       "      <td>ALQ</td>\n",
       "      <td>263.0</td>\n",
       "      <td>Unf</td>\n",
       "      <td>0.0</td>\n",
       "      <td>1017.0</td>\n",
       "      <td>1280.0</td>\n",
       "      <td>GasA</td>\n",
       "      <td>Ex</td>\n",
       "      <td>Y</td>\n",
       "      <td>SBrkr</td>\n",
       "      <td>1280</td>\n",
       "      <td>0</td>\n",
       "      <td>0</td>\n",
       "      <td>1280</td>\n",
       "      <td>0.0</td>\n",
       "      <td>0.0</td>\n",
       "      <td>2</td>\n",
       "      <td>0</td>\n",
       "      <td>2</td>\n",
       "      <td>1</td>\n",
       "      <td>Gd</td>\n",
       "      <td>5</td>\n",
       "      <td>Typ</td>\n",
       "      <td>0</td>\n",
       "      <td>NaN</td>\n",
       "      <td>Attchd</td>\n",
       "      <td>1992.0</td>\n",
       "      <td>RFn</td>\n",
       "      <td>2.0</td>\n",
       "      <td>506.0</td>\n",
       "      <td>TA</td>\n",
       "      <td>TA</td>\n",
       "      <td>Y</td>\n",
       "      <td>0</td>\n",
       "      <td>82</td>\n",
       "      <td>0</td>\n",
       "      <td>0</td>\n",
       "      <td>144</td>\n",
       "      <td>0</td>\n",
       "      <td>NaN</td>\n",
       "      <td>NaN</td>\n",
       "      <td>NaN</td>\n",
       "      <td>0</td>\n",
       "      <td>1</td>\n",
       "      <td>2010</td>\n",
       "      <td>WD</td>\n",
       "      <td>Normal</td>\n",
       "    </tr>\n",
       "  </tbody>\n",
       "</table>\n",
       "</div>"
      ],
      "text/plain": [
       "     Id  MSSubClass MSZoning  ...  YrSold  SaleType SaleCondition\n",
       "0  1461          20       RH  ...    2010        WD        Normal\n",
       "1  1462          20       RL  ...    2010        WD        Normal\n",
       "2  1463          60       RL  ...    2010        WD        Normal\n",
       "3  1464          60       RL  ...    2010        WD        Normal\n",
       "4  1465         120       RL  ...    2010        WD        Normal\n",
       "\n",
       "[5 rows x 80 columns]"
      ]
     },
     "execution_count": 6,
     "metadata": {
      "tags": []
     },
     "output_type": "execute_result"
    }
   ],
   "source": [
    "test.head()"
   ]
  },
  {
   "cell_type": "code",
   "execution_count": null,
   "metadata": {
    "id": "GV1es194weFf"
   },
   "outputs": [],
   "source": [
    "all_data = pd.concat((train.loc[:,'MSSubClass':'SaleCondition'],\n",
    "                      test.loc[:,'MSSubClass':'SaleCondition']))"
   ]
  },
  {
   "cell_type": "code",
   "execution_count": null,
   "metadata": {
    "colab": {
     "base_uri": "https://localhost:8080/",
     "height": 441
    },
    "id": "731Ba0oOwfbV",
    "outputId": "799ed7c4-23f7-4e68-dd78-d992544e87f6"
   },
   "outputs": [
    {
     "data": {
      "text/plain": [
       "array([[<matplotlib.axes._subplots.AxesSubplot object at 0x7f47ecb01080>,\n",
       "        <matplotlib.axes._subplots.AxesSubplot object at 0x7f47eca4d320>]],\n",
       "      dtype=object)"
      ]
     },
     "execution_count": 8,
     "metadata": {
      "tags": []
     },
     "output_type": "execute_result"
    },
    {
     "data": {
      "image/png": "[encoded data removed]",
      "text/plain": [
       "<Figure size 1080x432 with 2 Axes>"
      ]
     },
     "metadata": {
      "image/png": {
       "height": 372,
       "width": 877
      },
      "needs_background": "light",
      "tags": []
     },
     "output_type": "display_data"
    }
   ],
   "source": [
    "matplotlib.rcParams['figure.figsize'] = (15.0, 6.0)\n",
    "prices = pd.DataFrame({\"price\":train[\"SalePrice\"], \"log(price + 1)\":np.log1p(train[\"SalePrice\"])})\n",
    "prices.hist()"
   ]
  },
  {
   "cell_type": "code",
   "execution_count": null,
   "metadata": {
    "id": "1BjeneU1wpbj"
   },
   "outputs": [],
   "source": [
    "#log transform the target:\n",
    "train[\"SalePrice\"] = np.log1p(train[\"SalePrice\"])\n",
    "\n",
    "#log transform skewed numeric features:\n",
    "numeric_feats = all_data.dtypes[all_data.dtypes != \"object\"].index\n",
    "\n",
    "skewed_feats = train[numeric_feats].apply(lambda x: skew(x.dropna())) #compute skewness\n",
    "skewed_feats = skewed_feats[skewed_feats > 0.75]\n",
    "skewed_feats = skewed_feats.index\n",
    "\n",
    "all_data[skewed_feats] = np.log1p(all_data[skewed_feats])"
   ]
  },
  {
   "cell_type": "code",
   "execution_count": null,
   "metadata": {
    "id": "gKSnG1mFwuGf"
   },
   "outputs": [],
   "source": [
    "all_data = pd.get_dummies(all_data)"
   ]
  },
  {
   "cell_type": "code",
   "execution_count": null,
   "metadata": {
    "id": "t_X0x_m7wv-6"
   },
   "outputs": [],
   "source": [
    "#filling NA's with the mean of the column:\n",
    "all_data = all_data.fillna(all_data.mean())"
   ]
  },
  {
   "cell_type": "code",
   "execution_count": null,
   "metadata": {
    "id": "erAyeewpwyEC"
   },
   "outputs": [],
   "source": [
    "#creating matrices for sklearn:\n",
    "X_train = all_data[:train.shape[0]]\n",
    "X_test = all_data[train.shape[0]:]\n",
    "y = train.SalePrice"
   ]
  },
  {
   "cell_type": "markdown",
   "metadata": {
    "id": "zsDjSaK3w7BE"
   },
   "source": [
    "## Ridge Regression"
   ]
  },
  {
   "cell_type": "code",
   "execution_count": null,
   "metadata": {
    "id": "4HczzJX9w_HK"
   },
   "outputs": [],
   "source": [
    "def rmse_cv(model):\n",
    "    rmse= np.sqrt(-cross_val_score(model, X_train, y, scoring=\"neg_mean_squared_error\", cv = 5))\n",
    "    return(rmse)"
   ]
  },
  {
   "cell_type": "code",
   "execution_count": null,
   "metadata": {
    "id": "w1mvjKUwxDF9"
   },
   "outputs": [],
   "source": [
    "model_ridge = Ridge()"
   ]
  },
  {
   "cell_type": "code",
   "execution_count": null,
   "metadata": {
    "id": "a83u0Cnf7UYd"
   },
   "outputs": [],
   "source": [
    "alphas = [0.1]\n",
    "cv_ridge = [rmse_cv(Ridge(alpha = alpha)).mean() for alpha in alphas]\n",
    "print(\"rmse for alpha = 0.1:\", cv_ridge)"
   ]
  },
  {
   "cell_type": "code",
   "execution_count": null,
   "metadata": {
    "id": "-0BQinJM71Sg"
   },
   "outputs": [],
   "source": [
    "# optimize alpha value\n",
    "alphas = [0.05, 0.1, 0.3, 1, 3, 5, 10, 15, 30, 50, 75]\n",
    "cv_ridge = [rmse_cv(Ridge(alpha = alpha)).mean() for alpha in alphas]\n",
    "cv_ridge = pd.Series(cv_ridge, index = alphas)\n",
    "cv_ridge.plot(title = \"Validation\")\n",
    "plt.xlabel(\"alpha\")\n",
    "plt.ylabel(\"rmse\")\n",
    "\n",
    "optimalAlpha = cv_ridge[cv_ridge == cv_ridge.min()].index[0]\n",
    "print(\"Optimal alpha:\",optimalAlpha)\n",
    "print(\"rmse: \", cv_ridge.min())\n",
    "rmse1 = cv_ridge.min()"
   ]
  },
  {
   "cell_type": "code",
   "execution_count": null,
   "metadata": {
    "id": "N5Ad4-qq72C3"
   },
   "outputs": [],
   "source": [
    "# train model\n",
    "ridge = Ridge(alpha=optimalAlpha)\n",
    "ridge.fit(X_train, y)\n",
    "yPredict = ridge.predict(X_test)\n",
    "yPredict = np.expm1(yPredict)"
   ]
  },
  {
   "cell_type": "code",
   "execution_count": null,
   "metadata": {
    "id": "nlFxYp7379Fa"
   },
   "outputs": [],
   "source": [
    "# add output as feature\n",
    "X_train_stack = X_train\n",
    "Predicted_Y = pd.DataFrame({\"Predicted Y\":yPredict})\n",
    "Predicted_Y = Predicted_Y.append(Predicted_Y.loc[0], yPredict.mean())\n",
    "X_train_stack = X_train_stack.assign(Predicted_Y = Predicted_Y.values)\n",
    "X_train_stack"
   ]
  },
  {
   "cell_type": "code",
   "execution_count": null,
   "metadata": {
    "id": "z_cjVSXc8Bqj"
   },
   "outputs": [],
   "source": [
    "# optimize alpha value for stacked model\n",
    "\n",
    "def rmse_cv_stacked(model):\n",
    "    rmse= np.sqrt(-cross_val_score(model, X_train_stack, y, scoring=\"neg_mean_squared_error\", cv = 5))\n",
    "    return(rmse)\n",
    "\n",
    "alphas = [0.05, 0.1, 0.3, 1, 3, 5, 10, 15, 30, 50, 75]\n",
    "cv_ridge = [rmse_cv_stacked(Ridge(alpha = alpha)).mean() for alpha in alphas]\n",
    "cv_ridge = pd.Series(cv_ridge, index = alphas)\n",
    "optimalAlpha = cv_ridge[cv_ridge == cv_ridge.min()].index[0]\n",
    "\n",
    "print(\"Optimal alpha:\",optimalAlpha)\n",
    "print(\"rmse2: \", cv_ridge.min())\n",
    "rmse2 = cv_ridge.min()\n",
    "\n",
    "# train stacked model\n",
    "ridge2 = Ridge(alpha=optimalAlpha)\n",
    "ridge2.fit(X_train_stack, y)\n",
    "yPredict2 = ridge.predict(X_test)\n",
    "yPredict2 = np.expm1(yPredict2)\n",
    "\n",
    "# stacked ridge model vs original model?\n",
    "print(\"Is rmse2 larger than rmse1?\", rmse2 > rmse1)"
   ]
  },
  {
   "cell_type": "markdown",
   "metadata": {
    "id": "24q9Ascww-bn"
   },
   "source": [
    "## LASSO Regression"
   ]
  },
  {
   "cell_type": "code",
   "execution_count": null,
   "metadata": {
    "colab": {
     "base_uri": "https://localhost:8080/",
     "height": 35
    },
    "id": "xtUwJ2KjCePz",
    "outputId": "ee12a6ff-d020-4152-ce37-3fbdb1163f2c"
   },
   "outputs": [
    {
     "data": {
      "text/plain": [
       "0.12256735885048142"
      ]
     },
     "execution_count": 19,
     "metadata": {
      "tags": []
     },
     "output_type": "execute_result"
    }
   ],
   "source": [
    "model_lasso = LassoCV(alphas = [1, 0.1, 0.001, 0.0005]).fit(X_train, y)\n",
    "rmse_cv(model_lasso).mean()"
   ]
  },
  {
   "cell_type": "code",
   "execution_count": null,
   "metadata": {
    "colab": {
     "base_uri": "https://localhost:8080/",
     "height": 35
    },
    "id": "URT33-eSDKEs",
    "outputId": "983d7b87-a998-4b1f-cb8f-7a2093580cad"
   },
   "outputs": [
    {
     "name": "stdout",
     "output_type": "stream",
     "text": [
      "Lasso kept 110 fields and eliminated 178 fields\n"
     ]
    }
   ],
   "source": [
    "coef = pd.Series(model_lasso.coef_, index = X_train.columns)\n",
    "\n",
    "print(\"Lasso kept \" + str(sum(coef != 0)) + \" fields and eliminated \" + str(sum(coef==0)) + \" fields\")"
   ]
  },
  {
   "cell_type": "code",
   "execution_count": null,
   "metadata": {
    "colab": {
     "base_uri": "https://localhost:8080/",
     "height": 625
    },
    "id": "BXGfVCBMD8QH",
    "outputId": "ee88dd57-72cd-4381-bf9c-b46014121887"
   },
   "outputs": [
    {
     "data": {
      "text/plain": [
       "Text(0.5, 1.0, 'Lasso Coefficients')"
      ]
     },
     "execution_count": 25,
     "metadata": {
      "tags": []
     },
     "output_type": "execute_result"
    },
    {
     "data": {
      "image/png": "[encoded data removed]",
      "text/plain": [
       "<Figure size 576x720 with 1 Axes>"
      ]
     },
     "metadata": {
      "image/png": {
       "height": 590,
       "width": 586
      },
      "needs_background": "light",
      "tags": []
     },
     "output_type": "display_data"
    }
   ],
   "source": [
    "imp_coef = pd.concat([coef.sort_values().head(10), coef.sort_values().tail(10)])\n",
    "\n",
    "matplotlib.rcParams['figure.figsize'] = (8.0, 10.0)\n",
    "imp_coef.plot(kind = \"barh\")\n",
    "plt.title(\"Lasso Coefficients\")"
   ]
  },
  {
   "cell_type": "code",
   "execution_count": null,
   "metadata": {
    "colab": {
     "base_uri": "https://localhost:8080/",
     "height": 405
    },
    "id": "YFmz9YDJAEG3",
    "outputId": "5ec38fe7-e9ce-4013-84e3-2d455fab1f13"
   },
   "outputs": [
    {
     "data": {
      "text/plain": [
       "<matplotlib.axes._subplots.AxesSubplot at 0x7ff2610f2cc0>"
      ]
     },
     "execution_count": 27,
     "metadata": {
      "tags": []
     },
     "output_type": "execute_result"
    },
    {
     "data": {
      "image/png": "[encoded data removed]",
      "text/plain": [
       "<Figure size 432x432 with 1 Axes>"
      ]
     },
     "metadata": {
      "image/png": {
       "height": 370,
       "width": 394
      },
      "needs_background": "light",
      "tags": []
     },
     "output_type": "display_data"
    }
   ],
   "source": [
    "matplotlib.rcParams['figure.figsize'] = (6.0, 6.0)\n",
    "\n",
    "preds = pd.DataFrame({\"preds\":model_lasso.predict(X_train), \"true\":y})\n",
    "preds[\"residuals\"] = preds[\"true\"] - preds[\"preds\"]\n",
    "preds.plot(x = \"preds\", y = \"residuals\", kind = \"scatter\")"
   ]
  },
  {
   "cell_type": "markdown",
   "metadata": {
    "id": "SadfdBlYxD6M"
   },
   "source": [
    "## XGBoost Regression"
   ]
  },
  {
   "cell_type": "markdown",
   "metadata": {
    "id": "T1ozRewf_W8I"
   },
   "source": [
    "Finding the best hyperpararameters for XGBoost Regression using GridSearchCV. Originally these dictionaries had a lot more values, but they were condensed through trial and error."
   ]
  },
  {
   "cell_type": "code",
   "execution_count": null,
   "metadata": {
    "id": "8Y4f3W57xJhN"
   },
   "outputs": [],
   "source": [
    "xgb_model = xgb.XGBRegressor()\n",
    "\n",
    "param_grid = {\n",
    "    'learning_rate': [0.15],\n",
    "    'max_depth': [3],\n",
    "    'min_child_weight': [1],\n",
    "    'gamma': [0.1],\n",
    "    'colsample_bytree': [0.4],\n",
    "    'n_estimators': [325]}\n",
    "\n",
    "MSE = make_scorer(mean_squared_error, greater_is_better=False)\n",
    "model = GridSearchCV(estimator=xgb_model, param_grid=param_grid, n_jobs=-1, cv=3, scoring=MSE, verbose=2)\n",
    "model.fit(X_train, y)\n",
    "print('XGBoost Regression...')\n",
    "print('Best Params:', model.best_params_)\n",
    "print('Best CV Score:', -model.best_score_)"
   ]
  },
  {
   "cell_type": "code",
   "execution_count": null,
   "metadata": {
    "id": "f8cTl95sxSCS"
   },
   "outputs": [],
   "source": [
    "params = {'colsample_bytree': 0.4, 'gamma': 0.1, 'learning_rate': 0.15, 'max_depth': 3, 'min_child_weight': 1, 'n_estimators': 325}\n",
    "model_xgb = xgb.XGBRegressor(**params)"
   ]
  },
  {
   "cell_type": "markdown",
   "metadata": {
    "id": "O5SxfeyrQpuq"
   },
   "source": [
    "## Random Forest Regression"
   ]
  },
  {
   "cell_type": "markdown",
   "metadata": {
    "id": "QciigVwmHE7K"
   },
   "source": [
    "Finding the best hyperpararameters for Random Forest Regression using GridSearchCV. Originally these dictionaries had a lot more values, but they were condensed through trial and error."
   ]
  },
  {
   "cell_type": "code",
   "execution_count": null,
   "metadata": {
    "id": "NbPgaPZ1QtJG"
   },
   "outputs": [],
   "source": [
    "rfr = RandomForestRegressor(verbose=0)\n",
    "\n",
    "param_grid = {\n",
    "    'bootstrap': [True],\n",
    "    'max_depth': [96],\n",
    "    'max_features': ['auto'],\n",
    "    'min_samples_leaf': [2],\n",
    "    'min_samples_split': [2],\n",
    "    'n_estimators': [2070]}\n",
    "\n",
    "MSE = make_scorer(mean_squared_error, greater_is_better=False)\n",
    "model = GridSearchCV(estimator=rfr, param_grid=param_grid, n_jobs=-1, cv=3, scoring=MSE, verbose=2)\n",
    "model.fit(X_train, y)\n",
    "print('Random forest regression...')\n",
    "print('Best Params:', model.best_params_)\n",
    "print('Best CV Score:', -model.best_score_)"
   ]
  },
  {
   "cell_type": "code",
   "execution_count": null,
   "metadata": {
    "id": "EjhnIexBoSsq"
   },
   "outputs": [],
   "source": [
    "params = {'bootstrap': True, 'max_depth': 96, 'max_features': 'auto', 'min_samples_leaf': 2, 'min_samples_split': 2, 'n_estimators': 2070}\n",
    "model_rfr = RandomForestRegressor(**params)"
   ]
  },
  {
   "cell_type": "markdown",
   "metadata": {
    "id": "3T2Fml4VTJO6"
   },
   "source": [
    "## SVR"
   ]
  },
  {
   "cell_type": "markdown",
   "metadata": {
    "id": "csdNAbcrahNS"
   },
   "source": [
    "We used GridSearchCV to tune the hyperparameters for the SVR model. Originally, the list of possible parameter values was quite extensive, but eventually got reduced to what is shown below based on trial and error."
   ]
  },
  {
   "cell_type": "code",
   "execution_count": null,
   "metadata": {
    "id": "K_ssRSksTMQw"
   },
   "outputs": [],
   "source": [
    "optimalSVR = GridSearchCV(estimator=SVR(kernel='rbf'), \n",
    "                   param_grid = {\n",
    "                       'C': [0.1, 1, 10, 100, 10000, 15000],\n",
    "                       'epsilon': [0.01, 0.012, 0.013, 0.0135],\n",
    "                       'gamma': [8e-05,9e-05,9.5e-05,0.0001]\n",
    "                   },\n",
    "                   cv = 8,\n",
    "                   scoring = 'neg_mean_squared_error',\n",
    "                   verbose = 0,\n",
    "                   n_jobs = -1)\n",
    "\n",
    "optimalSVR.fit(X_train, y)"
   ]
  },
  {
   "cell_type": "code",
   "execution_count": null,
   "metadata": {
    "id": "zTOWQdZo55-k"
   },
   "outputs": [],
   "source": [
    "print(\"Optimal Parameters:\", optimalSVR.best_params_)\n",
    "print(\"MSE: \", -optimalSVR.best_score_)\n",
    "print(\"RMSE: \", np.sqrt(-optimalSVR.best_score_))\n",
    "print(\"Standard Dev:\", optimalSVR.cv_results_['std_test_score'][optimalSVR.best_index_])     "
   ]
  },
  {
   "cell_type": "code",
   "execution_count": null,
   "metadata": {
    "id": "wuojg2ImuHK1"
   },
   "outputs": [],
   "source": [
    "svr_optimal = {'C': 100, 'epsilon': 0.0135, 'gamma': 8e-05}\n",
    "model_svr = SVR(kernel='rbf', **svr_optimal)\n",
    "model_svr.fit(X_train, y)"
   ]
  },
  {
   "cell_type": "markdown",
   "metadata": {
    "id": "nQOO2GKMAfbg"
   },
   "source": [
    "## GBM Regression\n"
   ]
  },
  {
   "cell_type": "code",
   "execution_count": null,
   "metadata": {
    "id": "Mn44IPppAFMU"
   },
   "outputs": [],
   "source": [
    "model_lgbm = LGBMRegressor(boosting_type='gbdt', objective='regression', metric = 'rmse')\n",
    "\n",
    "model_lgbm.fit(X_train, y)\n",
    "\n",
    "rmse_cv(model_lgbm).mean()\n",
    "\n",
    "MSE = make_scorer(mean_squared_error, greater_is_better=False)\n",
    "\n",
    "param_grid_lgbm = {\n",
    "    'num_leaves' : np.arange(-1,15,1),\n",
    "    'max_depth' : np.arange(-1, 6, 1),\n",
    "    'learning_rate' : np.arange(0.03,0.08,0.01),\n",
    "    'n_estimators' : np.arange(400,450,10)\n",
    "}\n",
    "\n",
    "model_lgbm_hyper = GridSearchCV(estimator=model_lgbm, param_grid=param_grid_lgbm, n_jobs=-1, cv=4, scoring=MSE)\n",
    "\n",
    "model_lgbm_hyper.fit(X_train,y)\n",
    "\n",
    "score = -model_lgbm_hyper.best_score_\n",
    "\n",
    "print('Best Params:\\n', model_lgbm_hyper.best_params_)\n",
    "print('Best CV Score:', score)"
   ]
  },
  {
   "cell_type": "code",
   "execution_count": null,
   "metadata": {
    "colab": {
     "base_uri": "https://localhost:8080/",
     "height": 35
    },
    "id": "OW39NqZpAbXR",
    "outputId": "71ccb96b-ca9b-4b0e-814f-985514e318d4"
   },
   "outputs": [
    {
     "data": {
      "text/plain": [
       "0.12782947906259498"
      ]
     },
     "execution_count": 16,
     "metadata": {
      "tags": []
     },
     "output_type": "execute_result"
    }
   ],
   "source": [
    "saved_best = {'learning_rate': 0.060000000000000005, 'max_depth': -1, 'n_estimators': 420, 'num_leaves': 9}\n",
    "model_lgbm_set = LGBMRegressor(boosting_type='gbdt', objective='regression', metric = 'rmse', **saved_best)\n",
    "model_lgbm_set.fit(X_train,y)\n",
    "\n",
    "rmse_cv(model_lgbm_set).mean()"
   ]
  },
  {
   "cell_type": "markdown",
   "metadata": {
    "id": "gTunbAbErqEa"
   },
   "source": [
    "# Stacking Models"
   ]
  },
  {
   "cell_type": "markdown",
   "metadata": {
    "id": "OTmJDP-iQDbH"
   },
   "source": [
    "Finally, we compile our models using a stacking regressor and check which final estimator gives the least error using rmse. This was done through trial and error seeing which rmse value was the lowest for each final regressor."
   ]
  },
  {
   "cell_type": "markdown",
   "metadata": {
    "id": "6-eCr5w4r0I0"
   },
   "source": [
    "RFR Meta Model rmse: 0.12510261384031024\n",
    "\n",
    "XGB Meta Model rmse: 0.12492697684309169\n",
    "\n",
    "Ridge Meta Model rmse: 0.11891085433887438\n",
    "\n",
    "LGBM Meta Model rmse: 0.12746463317549858\n",
    "\n",
    "Lasso Meta Model rmse: 0.11906390504408422\n",
    "\n",
    "SVR Meta Model rmse: 0.11950418291006988"
   ]
  },
  {
   "cell_type": "code",
   "execution_count": null,
   "metadata": {
    "id": "8MX_AoOgyKGy"
   },
   "outputs": [],
   "source": [
    "estimators_stack = [('svr', model_svr),\n",
    "                   ('rfr', model_rfr),\n",
    "                    ('xgb', model_xgb),\n",
    "                    ('lasso', model_lasso),\n",
    "                    ('ridge', ridge),\n",
    "                    ('gbm', model_lgbm_set)]\n",
    "big_stacker = StackingRegressor(n_jobs = -1, estimators=estimators_stack, final_estimator=model_lasso)\n",
    "big_stacker.fit(X_train, y)\n",
    "rmse_cv(big_stacker).mean()"
   ]
  },
  {
   "cell_type": "code",
   "execution_count": null,
   "metadata": {
    "id": "rTR0jpOHDuEA"
   },
   "outputs": [],
   "source": [
    "output = np.expm1(big_stacker.predict(X_test))\n",
    "out_db = pd.DataFrame()\n",
    "out_db['Id'] = test['Id']\n",
    "out_db['SalePrice'] = output\n",
    "out_db.tail()"
   ]
  },
  {
   "cell_type": "code",
   "execution_count": null,
   "metadata": {
    "id": "HZPiiK_6lOWy"
   },
   "outputs": [],
   "source": [
    "out_db.to_csv('bigstacker.csv',index=False)"
   ]
  },
  {
   "cell_type": "markdown",
   "metadata": {
    "id": "Ym6X3aUglYSj"
   },
   "source": [
    "We found that the final scoring for the following meta-models was the lowest\n",
    "\n",
    "\n",
    "*   SVR with 0.12085 RMSE\n",
    "*   Ridge with 0.11968 RMSE\n",
    "*   LASSO with 0.11913 RMSE\n",
    "\n",
    "Because of these RMSE values, we produced our results using a LASSO meta-model\n",
    "\n"
   ]
  }
 ],
 "metadata": {
  "colab": {
   "collapsed_sections": [],
   "name": "housing_prices.ipynb",
   "provenance": [],
   "toc_visible": true
  },
  "kernelspec": {
   "display_name": "Python 3",
   "language": "python",
   "name": "python3"
  },
  "language_info": {
   "codemirror_mode": {
    "name": "ipython",
    "version": 3
   },
   "file_extension": ".py",
   "mimetype": "text/x-python",
   "name": "python",
   "nbconvert_exporter": "python",
   "pygments_lexer": "ipython3",
   "version": "3.8.3"
  }
 },
 "nbformat": 4,
 "nbformat_minor": 4
}
